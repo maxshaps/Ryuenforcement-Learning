{
 "cells": [
  {
   "cell_type": "code",
   "execution_count": 12,
   "metadata": {},
   "outputs": [
    {
     "name": "stdout",
     "output_type": "stream",
     "text": [
      "The autoreload extension is already loaded. To reload it, use:\n",
      "  %reload_ext autoreload\n"
     ]
    }
   ],
   "source": [
    "# related third party imports\n",
    "import retro\n",
    "import torch\n",
    "import torch.optim as optim\n",
    "import matplotlib\n",
    "import matplotlib.pyplot as plt\n",
    "# local application/library specific imports\n",
    "from agent import DQN, ReplayMemory, train_agent, save_model\n",
    "from environment import get_screen, show_example_screen\n",
    "# Auto-reload modules\n",
    "%load_ext autoreload\n",
    "%autoreload 2"
   ]
  },
  {
   "cell_type": "markdown",
   "metadata": {},
   "source": [
    "## Setup Device and Environment - run only once"
   ]
  },
  {
   "cell_type": "code",
   "execution_count": 2,
   "metadata": {},
   "outputs": [
    {
     "name": "stdout",
     "output_type": "stream",
     "text": [
      "Device loaded: cuda\n",
      "Environment loaded: StreetFighterIISpecialChampionEdition-Genesis\n"
     ]
    },
    {
     "data": {
      "image/png": "[encoded data removed]",
      "text/plain": [
       "<Figure size 432x288 with 1 Axes>"
      ]
     },
     "metadata": {
      "needs_background": "light"
     },
     "output_type": "display_data"
    }
   ],
   "source": [
    "# setup device\n",
    "device = torch.device(\"cuda\" if torch.cuda.is_available() else \"cpu\")\n",
    "# setup environment\n",
    "rom_name = 'StreetFighterIISpecialChampionEdition-Genesis'\n",
    "env = retro.make(game=rom_name).unwrapped\n",
    "# setup matplotlib\n",
    "is_ipython = 'inline' in matplotlib.get_backend()\n",
    "if is_ipython:\n",
    "    from IPython import display\n",
    "plt.ion()\n",
    "# setup device (cpu/cuda)\n",
    "print(f'Device loaded: {device}')\n",
    "print(f'Environment loaded: {rom_name}')\n",
    "show_example_screen(device, env)"
   ]
  },
  {
   "cell_type": "markdown",
   "metadata": {},
   "source": [
    "## Define Training Parameters"
   ]
  },
  {
   "cell_type": "code",
   "execution_count": 6,
   "metadata": {},
   "outputs": [],
   "source": [
    "# Training parameters\n",
    "eps_start = 0.9\n",
    "eps_end = 0.05\n",
    "eps_decay = 200\n",
    "n_actions = 11\n",
    "batch_size = 128\n",
    "gamma = 0.999\n",
    "target_update = 10\n",
    "num_episodes = 1"
   ]
  },
  {
   "cell_type": "markdown",
   "metadata": {},
   "source": [
    "## Initialize DQN"
   ]
  },
  {
   "cell_type": "code",
   "execution_count": 7,
   "metadata": {},
   "outputs": [],
   "source": [
    "# Get screen size so that we can initialize layers correctly based on shape\n",
    "# returned from AI gym. Typical dimensions at this point are close to 3x40x90\n",
    "# which is the result of a clamped and down-scaled render buffer in get_screen()\n",
    "init_screen = get_screen(device, env)\n",
    "_, _, screen_height, screen_width = init_screen.shape\n",
    "policy_net = DQN(screen_height, screen_width, n_actions).to(device)\n",
    "target_net = DQN(screen_height, screen_width, n_actions).to(device)\n",
    "target_net.load_state_dict(policy_net.state_dict())\n",
    "target_net.eval()\n",
    "optimizer = optim.RMSprop(policy_net.parameters())\n",
    "memory = ReplayMemory(10000)"
   ]
  },
  {
   "cell_type": "markdown",
   "metadata": {},
   "source": [
    "## Train agent"
   ]
  },
  {
   "cell_type": "code",
   "execution_count": 8,
   "metadata": {},
   "outputs": [
    {
     "name": "stdout",
     "output_type": "stream",
     "text": [
      "Finished 0 frames\n",
      "Finished 100 frames\n",
      "Finished 200 frames\n",
      "Finished 300 frames\n",
      "Finished 400 frames\n",
      "Finished 500 frames\n",
      "Finished 600 frames\n",
      "Finished 700 frames\n",
      "Finished 800 frames\n",
      "Finished 900 frames\n",
      "Finished 1000 frames\n",
      "Finished 1100 frames\n",
      "Finished 1200 frames\n",
      "Finished 1300 frames\n",
      "Finished 1400 frames\n",
      "Finished 1500 frames\n",
      "Finished 1600 frames\n",
      "Finished 1700 frames\n",
      "Finished 1800 frames\n",
      "Finished 1900 frames\n",
      "Finished 2000 frames\n",
      "Finished 2100 frames\n",
      "Finished 2200 frames\n",
      "Finished 2300 frames\n",
      "Finished 2400 frames\n",
      "Finished 2500 frames\n",
      "Finished 2600 frames\n",
      "Finished 2700 frames\n",
      "Finished 2800 frames\n",
      "Finished 2900 frames\n",
      "Finished 3000 frames\n",
      "Finished 3100 frames\n",
      "Finished 3200 frames\n",
      "Finished 3300 frames\n",
      "Finished 3400 frames\n",
      "Finished 3500 frames\n",
      "Finished 3600 frames\n",
      "Finished 3700 frames\n",
      "Finished 3800 frames\n",
      "Finished 3900 frames\n",
      "Finished 4000 frames\n",
      "Finished 4100 frames\n",
      "Finished 4200 frames\n",
      "Finished 4300 frames\n",
      "Finished 4400 frames\n",
      "Finished 4500 frames\n",
      "Finished 4600 frames\n",
      "Finished 4700 frames\n",
      "Finished 4800 frames\n",
      "Finished 4900 frames\n",
      "Finished 5000 frames\n",
      "Finished 5100 frames\n",
      "Finished 5200 frames\n",
      "Finished 5300 frames\n",
      "Finished 5400 frames\n",
      "Finished 5500 frames\n",
      "Finished 5600 frames\n",
      "Finished 5700 frames\n",
      "Finished 5800 frames\n",
      "Episode 1 done\n",
      "Complete\n"
     ]
    }
   ],
   "source": [
    "episode_durations, episode_rewards = train_agent(device, env, policy_net, target_net, memory,optimizer, \n",
    "                                                 n_actions, num_episodes, eps_start, eps_end,\n",
    "                                                 eps_decay, batch_size, gamma, target_update, verbose=True)\n",
    "\n",
    "print('Complete')"
   ]
  },
  {
   "cell_type": "markdown",
   "metadata": {},
   "source": [
    "## Plot results"
   ]
  },
  {
   "cell_type": "code",
   "execution_count": 10,
   "metadata": {},
   "outputs": [
    {
     "data": {
      "text/plain": [
       "Text(0, 0.5, 'Total Reward')"
      ]
     },
     "execution_count": 10,
     "metadata": {},
     "output_type": "execute_result"
    },
    {
     "data": {
      "image/png": "[encoded data removed]",
      "text/plain": [
       "<Figure size 432x288 with 1 Axes>"
      ]
     },
     "metadata": {
      "needs_background": "light"
     },
     "output_type": "display_data"
    }
   ],
   "source": [
    "env.render()\n",
    "env.close()\n",
    "plt.ioff()\n",
    "#plt.show()\n",
    "plt.plot(episode_rewards)\n",
    "plt.title('Training')\n",
    "plt.xlabel('Episode')\n",
    "plt.ylabel('Total Reward')"
   ]
  },
  {
   "cell_type": "code",
   "execution_count": 13,
   "metadata": {},
   "outputs": [
    {
     "name": "stdout",
     "output_type": "stream",
     "text": [
      "C:\\Users\\rajkk\\PycharmProjects\\Ryuenforcement-Learning\\ryuenforcement\\saved_files\\hadouken_2020-07-07.pt\n"
     ]
    }
   ],
   "source": [
    "save_model(policy_net)"
   ]
  }
 ],
 "metadata": {
  "kernelspec": {
   "display_name": "Python 3",
   "language": "python",
   "name": "python3"
  },
  "language_info": {
   "codemirror_mode": {
    "name": "ipython",
    "version": 3
   },
   "file_extension": ".py",
   "mimetype": "text/x-python",
   "name": "python",
   "nbconvert_exporter": "python",
   "pygments_lexer": "ipython3",
   "version": "3.7.7"
  }
 },
 "nbformat": 4,
 "nbformat_minor": 4
}
